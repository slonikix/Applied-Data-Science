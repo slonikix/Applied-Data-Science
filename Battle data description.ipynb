{
    "cells": [
        {
            "cell_type": "markdown",
            "metadata": {},
            "source": "## Data Description"
        },
        {
            "cell_type": "markdown",
            "metadata": {},
            "source": "###\u00a0City analysed in this project : Warsaw.\n\nData 1 : Warsaw has a total of 18 districts. In order to segement the neighborhoods and explore them, we will essentially need a dataset that contains the 10 districts as well as their latitude and logitude coordinates.\n\nThis dataset exists for free on the web. Link to the dataset is : https://en.wikipedia.org/wiki/Districts_of_Warsaw\n\n"
        },
        {
            "cell_type": "markdown",
            "metadata": {},
            "source": "Data 2: Now once we got the districts' latitude and longitude, let's use Foursquare Location to get the amount of Restaurants venues per district, which will give us an idea of where the tourist are moving when visiting the city. This will already show us the best districts to start a hotel. The Restaurants details can be retrieved using search endpoint. For my project I need only good reated restaurant data (above 8.0), and in search endpoint there is a attribute called Rating, i.e for each Rating foursquare has a defined Raating which will help us to get the desired data.\n\nLink to the dataset is: https://developer.foursquare.com/docs/data"
        },
        {
            "cell_type": "code",
            "execution_count": null,
            "metadata": {},
            "outputs": [],
            "source": ""
        }
    ],
    "metadata": {
        "kernelspec": {
            "display_name": "Python 3.6",
            "language": "python",
            "name": "python3"
        },
        "language_info": {
            "codemirror_mode": {
                "name": "ipython",
                "version": 3
            },
            "file_extension": ".py",
            "mimetype": "text/x-python",
            "name": "python",
            "nbconvert_exporter": "python",
            "pygments_lexer": "ipython3",
            "version": "3.6.9"
        }
    },
    "nbformat": 4,
    "nbformat_minor": 4
}