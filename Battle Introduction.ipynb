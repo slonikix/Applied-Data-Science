{
    "cells": [
        {
            "metadata": {},
            "cell_type": "markdown",
            "source": "## Introduction"
        },
        {
            "metadata": {},
            "cell_type": "markdown",
            "source": "#### My report is for those who are planning to start a new hotel in the city of Warsaw. I will provide a suggestion on what would be the best venue to start a new hotel in a highly visited city with already many good hotels.\n\n#### Warsaw, my hometown, is one of the most popular tourist destinations. Currently ranked as 74 of most visited cities worldwide. Warsaw is definitely one of the best places to start up a new hotel business.\n\n#### In 2018, Warsaw received over 2,8 million visitors, tourist areas in Warsaw provide huge opportunities for hotels. We will go through the benefits and pitfalls of opening a new Hotel in a highly visited city with already many hotels offering their services. \n\n#### The core of Warsaw is made of 18 districts but, I will later concentrate on only 3 districts, where the busiest venues of Warsaw can be found to target the tourists visiting the city. With that in mind, I will be able to find the Top 3 districts to open a brand new hotel in the city.\n\n "
        },
        {
            "metadata": {},
            "cell_type": "markdown",
            "source": "## Business Problem"
        },
        {
            "metadata": {},
            "cell_type": "markdown",
            "source": "#### In my report, I focus on the issue of where to open a new hotel in a city like Warsaw, once one has decided to go ahead. Let\u2019s imagine investment company Mariette willing to open a new luxury hotel, a first and foremost important decision will be the location for its new hotel. \n\n#### - On what basis can Mariette decide its new hotel's location?  \n#### - While selecting the place there are key points to consider like they need to check out like where the most well-visited venues of the city are? \n#### - If incase there are already other luxury hotels which have good ratings, will it be risky to open new one near these hotels? "
        },
        {
            "metadata": {},
            "cell_type": "code",
            "source": "",
            "execution_count": null,
            "outputs": []
        }
    ],
    "metadata": {
        "kernelspec": {
            "name": "python3",
            "display_name": "Python 3.6",
            "language": "python"
        },
        "language_info": {
            "name": "python",
            "version": "3.6.9",
            "mimetype": "text/x-python",
            "codemirror_mode": {
                "name": "ipython",
                "version": 3
            },
            "pygments_lexer": "ipython3",
            "nbconvert_exporter": "python",
            "file_extension": ".py"
        }
    },
    "nbformat": 4,
    "nbformat_minor": 4
}